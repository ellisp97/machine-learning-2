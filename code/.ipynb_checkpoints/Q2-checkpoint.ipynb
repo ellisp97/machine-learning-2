{
 "cells": [
  {
   "cell_type": "code",
   "execution_count": 2,
   "metadata": {
    "collapsed": false
   },
   "outputs": [
    {
     "data": {
      "text/plain": [
       "<matplotlib.image.AxesImage at 0x86a0630>"
      ]
     },
     "execution_count": 2,
     "metadata": {},
     "output_type": "execute_result"
    }
   ],
   "source": [
    "import numpy as np\n",
    "import matplotlib.pyplot as plt\n",
    "from scipy.misc import imread\n",
    "def add_gaussian_noise(im,prop,varSigma):\n",
    "    N = int(np.round(np.prod(im.shape)*prop))\n",
    "    index = np.unravel_index(np.random.permutation(np.prod(im.shape))[1:N],im.shape)\n",
    "    e = varSigma*np.random.randn(np.prod(im.shape)).reshape(im.shape)\n",
    "    im2 = np.copy(im)\n",
    "    im2[index] = im2[index] + e[index]\n",
    "    return im2\n",
    "def add_saltnpeppar_noise(im,prop):\n",
    "    N = int(np.round(np.prod(im.shape)*prop))\n",
    "    index = np.unravel_index(np.random.permutation(np.prod(im.shape))[1:N],im.shape)\n",
    "    im2 = np.copy(im)\n",
    "    im2[index] = 1-im2[index]\n",
    "    return im2\n",
    "# proportion of pixels to alter\n",
    "prop = 0.7\n",
    "varSigma = 0.1\n",
    "im = imread(\"../images/manan_grey_resize.jpg\")\n",
    "im = im/255\n",
    "fig = plt.figure()\n",
    "ax = fig.add_subplot(131)\n",
    "ax.imshow(im,cmap='gray')\n",
    "im2 = add_gaussian_noise(im,prop,varSigma)\n",
    "ax2 = fig.add_subplot(132)\n",
    "ax2.imshow(im2,cmap='gray')\n",
    "im2 = add_saltnpeppar_noise(im,prop)\n",
    "ax3 = fig.add_subplot(133)\n",
    "ax3.imshow(im2,cmap='gray')"
   ]
  },
  {
   "cell_type": "code",
   "execution_count": 3,
   "metadata": {
    "collapsed": true
   },
   "outputs": [],
   "source": [
    "def neighbours(i,j,M,N,size=4):\n",
    "    if size==4:\n",
    "        if (i==0 and j==0):\n",
    "            n=[(0,1), (1,0)]\n",
    "        elif i==0 and j==N-1:\n",
    "            n=[(0,N-2), (1,N-1)]\n",
    "        elif i==M-1 and j==0:\n",
    "            n=[(M-1,1), (M-2,0)]\n",
    "        elif i==M-1 and j==N-1:\n",
    "            n=[(M-1,N-2), (M-2,N-1)]\n",
    "        elif i==0:\n",
    "            n=[(0,j-1), (0,j+1), (1,j)]\n",
    "        elif i==M-1:\n",
    "            n=[(M-1,j-1), (M-1,j+1), (M-2,j)]\n",
    "        elif j==0:\n",
    "            n=[(i-1,0), (i+1,0), (i,1)]\n",
    "        elif j==N-1:\n",
    "            n=[(i-1,N-1), (i+1,N-1), (i,N-2)]\n",
    "        else:\n",
    "            n=[(i-1,j), (i+1,j), (i,j-1), (i,j+1)]\n",
    "        return n"
   ]
  },
  {
   "cell_type": "code",
   "execution_count": null,
   "metadata": {
    "collapsed": true
   },
   "outputs": [],
   "source": [
    "def likeli_single(image, xImage, point):\n",
    "    return np.exp(image(point))\n",
    "\n",
    "\n",
    "def condProb(image,point,ximage):\n",
    "    \n",
    "\n",
    "def GibbsICM(image):\n",
    "    H, W = heightWidth(image)\n",
    "    X = np.zeros((H, W))\n",
    "    for i in range(H):\n",
    "        for j in range(W):\n",
    "            if (image.item((i, j)) == 1):\n",
    "                np.put(X, (i, j), 1)\n",
    "            elif (image.item((i, j)) == 0):\n",
    "                np.put(X, (i, j), -1)\n",
    "                \n",
    "    for i in range(1):\n",
    "        for i in range(H):\n",
    "            for j in range(W):\n",
    "                prob = condProb(image,(i,j),x)\n",
    "                t = np.random.uniform(0,1)\n",
    "                if prob > t:\n",
    "                    np.put(x,(i,j),1)\n",
    "                else:\n",
    "                    np.put(x,(i,j),-1)\n",
    "                    \n",
    "    return x\n",
    "                    "
   ]
  }
 ],
 "metadata": {
  "anaconda-cloud": {},
  "kernelspec": {
   "display_name": "Python [default]",
   "language": "python",
   "name": "python3"
  },
  "language_info": {
   "codemirror_mode": {
    "name": "ipython",
    "version": 3
   },
   "file_extension": ".py",
   "mimetype": "text/x-python",
   "name": "python",
   "nbconvert_exporter": "python",
   "pygments_lexer": "ipython3",
   "version": "3.5.2"
  }
 },
 "nbformat": 4,
 "nbformat_minor": 1
}
