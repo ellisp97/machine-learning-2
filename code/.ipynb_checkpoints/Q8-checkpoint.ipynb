{
 "cells": [
  {
   "cell_type": "code",
   "execution_count": 11,
   "metadata": {
    "collapsed": true
   },
   "outputs": [],
   "source": [
    "%matplotlib inline\n",
    "import numpy as np\n",
    "import matplotlib.pyplot as plt\n",
    "from scipy.misc import imread\n",
    "from textwrap import wrap\n",
    "import cv2\n",
    "import random"
   ]
  },
  {
   "cell_type": "code",
   "execution_count": 12,
   "metadata": {
    "collapsed": true
   },
   "outputs": [],
   "source": [
    "def heightWidth(image):\n",
    "    #width is the bigger one, the second one\n",
    "    return image.shape[0], image.shape[1]\n",
    "\n",
    "def showHistogram(image):\n",
    "    color = ('b','g','r')\n",
    "    for i,col in enumerate(color):\n",
    "        histr = cv2.calcHist([image],[i],None,[256],[0,256])\n",
    "        #np.delete(histr, 0)\n",
    "        plt.plot(histr,color = col)\n",
    "        plt.xlim([0,256])\n",
    "        plt.ylim([0,7000])\n",
    "    plt.show()"
   ]
  },
  {
   "cell_type": "code",
   "execution_count": 28,
   "metadata": {
    "scrolled": false
   },
   "outputs": [
    {
     "name": "stdout",
     "output_type": "stream",
     "text": [
      "[[ 1.  1.  1. ...,  1.  1. -1.]\n",
      " [-1. -1.  1. ..., -1.  1. -1.]\n",
      " [ 1.  1. -1. ...,  1.  1.  1.]\n",
      " ..., \n",
      " [-1.  1. -1. ...,  1. -1. -1.]\n",
      " [-1. -1. -1. ...,  1. -1.  1.]\n",
      " [-1.  1. -1. ..., -1. -1.  1.]]\n",
      "(100, 100, 3)\n"
     ]
    },
    {
     "data": {
      "image/png": "[encoded data removed]",
      "text/plain": [
       "<matplotlib.figure.Figure at 0x116c938d0>"
      ]
     },
     "metadata": {},
     "output_type": "display_data"
    },
    {
     "data": {
      "image/png": "[encoded data removed]",
      "text/plain": [
       "<matplotlib.figure.Figure at 0x116b4afd0>"
      ]
     },
     "metadata": {},
     "output_type": "display_data"
    },
    {
     "ename": "KeyboardInterrupt",
     "evalue": "",
     "output_type": "error",
     "traceback": [
      "\u001b[0;31m---------------------------------------------------------------------------\u001b[0m",
      "\u001b[0;31mKeyboardInterrupt\u001b[0m                         Traceback (most recent call last)",
      "\u001b[0;32m<ipython-input-28-a8ca8a21c58f>\u001b[0m in \u001b[0;36m<module>\u001b[0;34m()\u001b[0m\n\u001b[1;32m    118\u001b[0m \u001b[0;34m\u001b[0m\u001b[0m\n\u001b[1;32m    119\u001b[0m \u001b[0;34m\u001b[0m\u001b[0m\n\u001b[0;32m--> 120\u001b[0;31m \u001b[0mGibbsSampling\u001b[0m\u001b[0;34m(\u001b[0m\u001b[0mim3\u001b[0m\u001b[0;34m)\u001b[0m\u001b[0;34m\u001b[0m\u001b[0m\n\u001b[0m",
      "\u001b[0;32m<ipython-input-28-a8ca8a21c58f>\u001b[0m in \u001b[0;36mGibbsSampling\u001b[0;34m(image)\u001b[0m\n\u001b[1;32m     47\u001b[0m             \u001b[0;31m#print i\u001b[0m\u001b[0;34m\u001b[0m\u001b[0;34m\u001b[0m\u001b[0m\n\u001b[1;32m     48\u001b[0m             \u001b[0;32mfor\u001b[0m \u001b[0mj\u001b[0m \u001b[0;32min\u001b[0m \u001b[0mrange\u001b[0m\u001b[0;34m(\u001b[0m\u001b[0mW\u001b[0m\u001b[0;34m)\u001b[0m\u001b[0;34m:\u001b[0m\u001b[0;34m\u001b[0m\u001b[0m\n\u001b[0;32m---> 49\u001b[0;31m                 \u001b[0mX\u001b[0m\u001b[0;34m[\u001b[0m\u001b[0;34m(\u001b[0m\u001b[0mi\u001b[0m\u001b[0;34m,\u001b[0m\u001b[0mj\u001b[0m\u001b[0;34m)\u001b[0m\u001b[0;34m]\u001b[0m \u001b[0;34m=\u001b[0m \u001b[0mnewLikelihood\u001b[0m\u001b[0;34m(\u001b[0m\u001b[0mimage\u001b[0m\u001b[0;34m,\u001b[0m \u001b[0mforeIm\u001b[0m\u001b[0;34m,\u001b[0m \u001b[0mbackIm\u001b[0m\u001b[0;34m,\u001b[0m \u001b[0;34m(\u001b[0m\u001b[0mi\u001b[0m\u001b[0;34m,\u001b[0m\u001b[0mj\u001b[0m\u001b[0;34m)\u001b[0m\u001b[0;34m)\u001b[0m\u001b[0;34m\u001b[0m\u001b[0m\n\u001b[0m\u001b[1;32m     50\u001b[0m \u001b[0;31m#                 X[(i,j)] = likelihood(image, foreIm, backIm, (i,j))\u001b[0m\u001b[0;34m\u001b[0m\u001b[0;34m\u001b[0m\u001b[0m\n\u001b[1;32m     51\u001b[0m                 \u001b[0;32mif\u001b[0m \u001b[0mX\u001b[0m\u001b[0;34m[\u001b[0m\u001b[0;34m(\u001b[0m\u001b[0mi\u001b[0m\u001b[0;34m,\u001b[0m\u001b[0mj\u001b[0m\u001b[0;34m)\u001b[0m\u001b[0;34m]\u001b[0m \u001b[0;34m==\u001b[0m \u001b[0;34m-\u001b[0m\u001b[0;36m1\u001b[0m\u001b[0;34m:\u001b[0m\u001b[0;34m\u001b[0m\u001b[0m\n",
      "\u001b[0;32m<ipython-input-28-a8ca8a21c58f>\u001b[0m in \u001b[0;36mnewLikelihood\u001b[0;34m(image, foreIm, backIm, pixel)\u001b[0m\n\u001b[1;32m     77\u001b[0m     \u001b[0mtempBackIm\u001b[0m \u001b[0;34m=\u001b[0m \u001b[0mbackIm\u001b[0m\u001b[0;34m.\u001b[0m\u001b[0mreshape\u001b[0m\u001b[0;34m(\u001b[0m\u001b[0mW\u001b[0m\u001b[0;34m*\u001b[0m\u001b[0mH\u001b[0m\u001b[0;34m,\u001b[0m \u001b[0;36m3\u001b[0m\u001b[0;34m)\u001b[0m\u001b[0;34m\u001b[0m\u001b[0m\n\u001b[1;32m     78\u001b[0m     \u001b[0mforeHist\u001b[0m\u001b[0;34m,\u001b[0m \u001b[0mforeEdges\u001b[0m \u001b[0;34m=\u001b[0m \u001b[0mnp\u001b[0m\u001b[0;34m.\u001b[0m\u001b[0mhistogramdd\u001b[0m\u001b[0;34m(\u001b[0m\u001b[0mtempForeIm\u001b[0m\u001b[0;34m,\u001b[0m \u001b[0mnormed\u001b[0m\u001b[0;34m=\u001b[0m\u001b[0mFalse\u001b[0m\u001b[0;34m,\u001b[0m \u001b[0mrange\u001b[0m \u001b[0;34m=\u001b[0m \u001b[0;34m(\u001b[0m\u001b[0;34m[\u001b[0m\u001b[0;34m[\u001b[0m\u001b[0;36m0\u001b[0m\u001b[0;34m,\u001b[0m\u001b[0;36m255\u001b[0m\u001b[0;34m]\u001b[0m\u001b[0;34m,\u001b[0m\u001b[0;34m[\u001b[0m\u001b[0;36m0\u001b[0m\u001b[0;34m,\u001b[0m\u001b[0;36m255\u001b[0m\u001b[0;34m]\u001b[0m\u001b[0;34m,\u001b[0m\u001b[0;34m[\u001b[0m\u001b[0;36m0\u001b[0m\u001b[0;34m,\u001b[0m\u001b[0;36m255\u001b[0m\u001b[0;34m]\u001b[0m\u001b[0;34m]\u001b[0m\u001b[0;34m)\u001b[0m\u001b[0;34m)\u001b[0m\u001b[0;34m\u001b[0m\u001b[0m\n\u001b[0;32m---> 79\u001b[0;31m     \u001b[0mbackHist\u001b[0m\u001b[0;34m,\u001b[0m \u001b[0mbackEdges\u001b[0m \u001b[0;34m=\u001b[0m \u001b[0mnp\u001b[0m\u001b[0;34m.\u001b[0m\u001b[0mhistogramdd\u001b[0m\u001b[0;34m(\u001b[0m\u001b[0mtempBackIm\u001b[0m\u001b[0;34m,\u001b[0m \u001b[0mnormed\u001b[0m\u001b[0;34m=\u001b[0m\u001b[0mFalse\u001b[0m\u001b[0;34m,\u001b[0m \u001b[0mrange\u001b[0m \u001b[0;34m=\u001b[0m \u001b[0;34m(\u001b[0m\u001b[0;34m[\u001b[0m\u001b[0;34m[\u001b[0m\u001b[0;36m0\u001b[0m\u001b[0;34m,\u001b[0m\u001b[0;36m255\u001b[0m\u001b[0;34m]\u001b[0m\u001b[0;34m,\u001b[0m\u001b[0;34m[\u001b[0m\u001b[0;36m0\u001b[0m\u001b[0;34m,\u001b[0m\u001b[0;36m255\u001b[0m\u001b[0;34m]\u001b[0m\u001b[0;34m,\u001b[0m\u001b[0;34m[\u001b[0m\u001b[0;36m0\u001b[0m\u001b[0;34m,\u001b[0m\u001b[0;36m255\u001b[0m\u001b[0;34m]\u001b[0m\u001b[0;34m]\u001b[0m\u001b[0;34m)\u001b[0m\u001b[0;34m)\u001b[0m\u001b[0;34m\u001b[0m\u001b[0m\n\u001b[0m\u001b[1;32m     80\u001b[0m     \u001b[0mbBin\u001b[0m\u001b[0;34m,\u001b[0m \u001b[0mgBin\u001b[0m\u001b[0;34m,\u001b[0m \u001b[0mrBin\u001b[0m \u001b[0;34m=\u001b[0m \u001b[0;36m0\u001b[0m\u001b[0;34m,\u001b[0m \u001b[0;36m0\u001b[0m\u001b[0;34m,\u001b[0m \u001b[0;36m0\u001b[0m\u001b[0;34m\u001b[0m\u001b[0m\n\u001b[1;32m     81\u001b[0m     \u001b[0;31m#print len(foreEdges[0])\u001b[0m\u001b[0;34m\u001b[0m\u001b[0;34m\u001b[0m\u001b[0m\n",
      "\u001b[0;32m/usr/local/lib/python2.7/site-packages/numpy/lib/function_base.pyc\u001b[0m in \u001b[0;36mhistogramdd\u001b[0;34m(sample, bins, range, normed, weights)\u001b[0m\n\u001b[1;32m    975\u001b[0m                        around(edges[i][-1], decimal))\n\u001b[1;32m    976\u001b[0m             \u001b[0;31m# Shift these points one bin to the left.\u001b[0m\u001b[0;34m\u001b[0m\u001b[0;34m\u001b[0m\u001b[0m\n\u001b[0;32m--> 977\u001b[0;31m             \u001b[0mNcount\u001b[0m\u001b[0;34m[\u001b[0m\u001b[0mi\u001b[0m\u001b[0;34m]\u001b[0m\u001b[0;34m[\u001b[0m\u001b[0mwhere\u001b[0m\u001b[0;34m(\u001b[0m\u001b[0mon_edge\u001b[0m \u001b[0;34m&\u001b[0m \u001b[0mnot_smaller_than_edge\u001b[0m\u001b[0;34m)\u001b[0m\u001b[0;34m[\u001b[0m\u001b[0;36m0\u001b[0m\u001b[0;34m]\u001b[0m\u001b[0;34m]\u001b[0m \u001b[0;34m-=\u001b[0m \u001b[0;36m1\u001b[0m\u001b[0;34m\u001b[0m\u001b[0m\n\u001b[0m\u001b[1;32m    978\u001b[0m \u001b[0;34m\u001b[0m\u001b[0m\n\u001b[1;32m    979\u001b[0m     \u001b[0;31m# Flattened histogram matrix (1D)\u001b[0m\u001b[0;34m\u001b[0m\u001b[0;34m\u001b[0m\u001b[0m\n",
      "\u001b[0;31mKeyboardInterrupt\u001b[0m: "
     ]
    }
   ],
   "source": [
    "prop = 0.3\n",
    "varSigma = 0.1\n",
    "\n",
    "im1 = cv2.imread(\"../images/manan.jpg\")\n",
    "im2 = cv2.imread(\"../images/mike.jpg\")\n",
    "im3 = cv2.imread(\"../images/mrworry.png\")\n",
    "\n",
    "#def GibbsSampling(image, wHigh, wLow, lim, random, display):\n",
    "def GibbsSampling(image):\n",
    "    H, W = heightWidth(image)\n",
    "    X = np.zeros((H,W))\n",
    "    lim = 5\n",
    "    \n",
    "    # randomly assign -1 or 1 to the latent variable of each pixel \n",
    "    for i in range(H):\n",
    "        for j in range(W):\n",
    "            X[(i, j)] = np.random.choice([-1, 1])\n",
    "    print(X)\n",
    "    # -1 is background and +1 is foreground\n",
    "    print (image.shape)\n",
    "    # create foreground and background image (rest of the stuff in the image is black, FIX?)\n",
    "    foreIm = np.copy(image) \n",
    "    backIm = np.copy(image)\n",
    "    for i in range(H):\n",
    "        for j in range(W):\n",
    "            if (X[(i,j)] == -1):\n",
    "                foreIm[(i,j)] = [0, 0, 0]\n",
    "            else:\n",
    "                backIm[(i,j)] = [0, 0, 0]\n",
    "    \n",
    "    plt.imshow(foreIm, interpolation='nearest')\n",
    "    plt.show()\n",
    "    plt.imshow(backIm, interpolation='nearest')\n",
    "    plt.show()\n",
    "    tempForeIm = foreIm.reshape(W*H, 3)\n",
    "    foreHist, foreEdges = np.histogramdd(tempForeIm, normed=False, range = ([[0,255],[0,255],[0,255]]))\n",
    "\n",
    "    \n",
    "    # show histograms for foreground and background\n",
    "#     showHistogram(foreIm)\n",
    "#     showHistogram(backIm)\n",
    "    \n",
    "    lim = 40\n",
    "    \n",
    "    for iteration in range(lim):\n",
    "        for i in range(H):\n",
    "            #print i\n",
    "            for j in range(W):\n",
    "                X[(i,j)] = newLikelihood(image, foreIm, backIm, (i,j))\n",
    "#                 X[(i,j)] = likelihood(image, foreIm, backIm, (i,j))\n",
    "                if X[(i,j)] == -1:\n",
    "                    backIm[(i,j)] = image[(i,j)]\n",
    "                    foreIm[(i,j)] = [0, 0, 0]\n",
    "                else:\n",
    "                    foreIm[(i,j)] = image[(i,j)]\n",
    "                    backIm[(i,j)] = [0, 0, 0]\n",
    "        print (\"Iteration: \", iteration)\n",
    "        plt.show()\n",
    "        plt.imshow(foreIm, interpolation='nearest')\n",
    "        plt.show()\n",
    "        plt.imshow(backIm, interpolation='nearest')\n",
    "        plt.show()\n",
    "        \n",
    "                    \n",
    "#     showHistogram(foreIm)\n",
    "#     showHistogram(backIm)\n",
    "    print (\"Complete\")\n",
    "    plt.imshow(foreIm, interpolation='nearest')\n",
    "    plt.show()\n",
    "    plt.imshow(backIm, interpolation='nearest')\n",
    "    plt.show()\n",
    "                \n",
    "                \n",
    "def newLikelihood(image, foreIm, backIm, pixel):\n",
    "    H, W = heightWidth(image)\n",
    "    tempForeIm = foreIm.reshape(W*H, 3)\n",
    "    tempBackIm = backIm.reshape(W*H, 3)\n",
    "    foreHist, foreEdges = np.histogramdd(tempForeIm, normed=False, range = ([[0,255],[0,255],[0,255]]))\n",
    "    backHist, backEdges = np.histogramdd(tempBackIm, normed=False, range = ([[0,255],[0,255],[0,255]]))\n",
    "    bBin, gBin, rBin = 0, 0, 0\n",
    "    #print len(foreEdges[0])\n",
    "    for i in range(1, len(foreEdges[0])):\n",
    "        if image[pixel][0] <= 25.5*i and i > 25.5*(i-1):\n",
    "            bBin = i\n",
    "        if image[pixel][1] <= 25.5*i and i > 25.5*(i-1):\n",
    "            gBin = i\n",
    "        if image[pixel][2] <= 25.5*i and i > 25.5*(i-1):\n",
    "            rBin = i\n",
    "    if foreHist[bBin, gBin, rBin] > backHist[bBin, gBin, rBin]:\n",
    "        return 1\n",
    "    else:\n",
    "        return -1\n",
    "    \n",
    "#def mask(X,)\n",
    "            \n",
    "def likelihood(image, foreIm, backIm, pixel):\n",
    "    H, W = heightWidth(foreIm)\n",
    "    color = ('b','g','r')\n",
    "    # foreground and background stuff\n",
    "    foreColour = [0, 0, 0]\n",
    "    backColour = [0, 0, 0]\n",
    "    for i,col in enumerate(color):\n",
    "        foreHist = cv2.calcHist([foreIm],[i],None,[256],[0,256])\n",
    "        backHist = cv2.calcHist([backIm],[i],None,[256],[0,256])\n",
    "        newForeHist = np.delete(foreHist, 0)\n",
    "        newBackHist = np.delete(backHist, 0)\n",
    "        histLen = (len(newForeHist))\n",
    "        foreColour[i] = np.average(range(0, histLen), weights=(newForeHist))\n",
    "        backColour[i] = np.average(range(0, histLen), weights=(newBackHist))\n",
    "    foreDiff, backDiff = 0, 0\n",
    "    for i in range(3):\n",
    "        foreDiff += np.abs(foreColour[i] - image[pixel][i])\n",
    "        backDiff += np.abs(backColour[i] - image[pixel][i])\n",
    "    if backDiff <= foreDiff:\n",
    "        return -1\n",
    "    else:\n",
    "        return 1\n",
    "        \n",
    "    \n",
    "GibbsSampling(im3)"
   ]
  },
  {
   "cell_type": "code",
   "execution_count": null,
   "metadata": {
    "collapsed": true
   },
   "outputs": [],
   "source": []
  }
 ],
 "metadata": {
  "kernelspec": {
   "display_name": "Python 2",
   "language": "python",
   "name": "python2"
  },
  "language_info": {
   "codemirror_mode": {
    "name": "ipython",
    "version": 2
   },
   "file_extension": ".py",
   "mimetype": "text/x-python",
   "name": "python",
   "nbconvert_exporter": "python",
   "pygments_lexer": "ipython2",
   "version": "2.7.14"
  }
 },
 "nbformat": 4,
 "nbformat_minor": 2
}
